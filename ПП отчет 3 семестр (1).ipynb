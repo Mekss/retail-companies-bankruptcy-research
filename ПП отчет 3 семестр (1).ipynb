{
 "cells": [
  {
   "cell_type": "code",
   "execution_count": 1,
   "metadata": {},
   "outputs": [],
   "source": [
    "from sklearn import metrics\n",
    "import pandas as pd\n",
    "import numpy as np\n",
    "import matplotlib.pyplot as plt\n",
    "from sklearn.metrics import precision_score\n",
    "from sklearn.metrics import recall_score\n",
    "from sklearn.metrics import f1_score\n",
    "from sklearn.metrics import roc_curve, auc\n",
    "from sklearn.svm import LinearSVC\n",
    "from sklearn.cluster import KMeans\n",
    "from sklearn import metrics\n",
    "import random \n",
    "from sklearn.metrics import accuracy_score\n",
    "from sklearn.neighbors import NearestNeighbors\n",
    "from sklearn.model_selection import GridSearchCV,train_test_split"
   ]
  },
  {
   "cell_type": "code",
   "execution_count": 2,
   "metadata": {},
   "outputs": [
    {
     "name": "stdout",
     "output_type": "stream",
     "text": [
      "(85, 12)\n"
     ]
    }
   ],
   "source": [
    "df = pd.read_excel('BD fact aganist.xlsx')\n",
    "df[:5]\n",
    "print(df.shape)"
   ]
  },
  {
   "cell_type": "code",
   "execution_count": 3,
   "metadata": {},
   "outputs": [
    {
     "data": {
      "text/html": [
       "<div>\n",
       "<style scoped>\n",
       "    .dataframe tbody tr th:only-of-type {\n",
       "        vertical-align: middle;\n",
       "    }\n",
       "\n",
       "    .dataframe tbody tr th {\n",
       "        vertical-align: top;\n",
       "    }\n",
       "\n",
       "    .dataframe thead th {\n",
       "        text-align: right;\n",
       "    }\n",
       "</style>\n",
       "<table border=\"1\" class=\"dataframe\">\n",
       "  <thead>\n",
       "    <tr style=\"text-align: right;\">\n",
       "      <th></th>\n",
       "      <th>0</th>\n",
       "      <th>1</th>\n",
       "      <th>2</th>\n",
       "      <th>3</th>\n",
       "      <th>4</th>\n",
       "      <th>5</th>\n",
       "      <th>6</th>\n",
       "      <th>7</th>\n",
       "      <th>8</th>\n",
       "      <th>9</th>\n",
       "      <th>10</th>\n",
       "    </tr>\n",
       "  </thead>\n",
       "  <tbody>\n",
       "    <tr>\n",
       "      <th>0</th>\n",
       "      <td>0.605457</td>\n",
       "      <td>0.695548</td>\n",
       "      <td>0.251884</td>\n",
       "      <td>0.537317</td>\n",
       "      <td>0.706806</td>\n",
       "      <td>0.000000</td>\n",
       "      <td>0.286571</td>\n",
       "      <td>0.313346</td>\n",
       "      <td>0.513261</td>\n",
       "      <td>0.246425</td>\n",
       "      <td>0.268827</td>\n",
       "    </tr>\n",
       "    <tr>\n",
       "      <th>1</th>\n",
       "      <td>0.519912</td>\n",
       "      <td>0.676947</td>\n",
       "      <td>0.490381</td>\n",
       "      <td>0.646028</td>\n",
       "      <td>0.780544</td>\n",
       "      <td>0.365321</td>\n",
       "      <td>0.384615</td>\n",
       "      <td>0.358843</td>\n",
       "      <td>0.442609</td>\n",
       "      <td>0.422992</td>\n",
       "      <td>0.269127</td>\n",
       "    </tr>\n",
       "    <tr>\n",
       "      <th>2</th>\n",
       "      <td>0.419063</td>\n",
       "      <td>0.754590</td>\n",
       "      <td>0.485769</td>\n",
       "      <td>0.381809</td>\n",
       "      <td>0.707211</td>\n",
       "      <td>0.000000</td>\n",
       "      <td>0.381855</td>\n",
       "      <td>0.371209</td>\n",
       "      <td>0.629457</td>\n",
       "      <td>0.187569</td>\n",
       "      <td>0.409241</td>\n",
       "    </tr>\n",
       "    <tr>\n",
       "      <th>3</th>\n",
       "      <td>0.512168</td>\n",
       "      <td>0.533301</td>\n",
       "      <td>0.249972</td>\n",
       "      <td>0.666667</td>\n",
       "      <td>0.601272</td>\n",
       "      <td>0.000000</td>\n",
       "      <td>0.533301</td>\n",
       "      <td>0.259216</td>\n",
       "      <td>0.637717</td>\n",
       "      <td>0.000000</td>\n",
       "      <td>0.500150</td>\n",
       "    </tr>\n",
       "    <tr>\n",
       "      <th>4</th>\n",
       "      <td>0.413901</td>\n",
       "      <td>0.510140</td>\n",
       "      <td>0.298459</td>\n",
       "      <td>0.195824</td>\n",
       "      <td>0.552293</td>\n",
       "      <td>0.096912</td>\n",
       "      <td>0.220449</td>\n",
       "      <td>0.000000</td>\n",
       "      <td>0.378913</td>\n",
       "      <td>0.280528</td>\n",
       "      <td>0.000000</td>\n",
       "    </tr>\n",
       "  </tbody>\n",
       "</table>\n",
       "</div>"
      ],
      "text/plain": [
       "         0         1         2         3         4         5         6   \\\n",
       "0  0.605457  0.695548  0.251884  0.537317  0.706806  0.000000  0.286571   \n",
       "1  0.519912  0.676947  0.490381  0.646028  0.780544  0.365321  0.384615   \n",
       "2  0.419063  0.754590  0.485769  0.381809  0.707211  0.000000  0.381855   \n",
       "3  0.512168  0.533301  0.249972  0.666667  0.601272  0.000000  0.533301   \n",
       "4  0.413901  0.510140  0.298459  0.195824  0.552293  0.096912  0.220449   \n",
       "\n",
       "         7         8         9         10  \n",
       "0  0.313346  0.513261  0.246425  0.268827  \n",
       "1  0.358843  0.442609  0.422992  0.269127  \n",
       "2  0.371209  0.629457  0.187569  0.409241  \n",
       "3  0.259216  0.637717  0.000000  0.500150  \n",
       "4  0.000000  0.378913  0.280528  0.000000  "
      ]
     },
     "execution_count": 3,
     "metadata": {},
     "output_type": "execute_result"
    }
   ],
   "source": [
    "from sklearn.preprocessing import MinMaxScaler\n",
    "scaler = MinMaxScaler()\n",
    "X = df.drop(['Регион'],axis=1)\n",
    "scaler.fit(X)\n",
    "X=scaler.transform(X)\n",
    "X=pd.DataFrame(X)\n",
    "X[:5]"
   ]
  },
  {
   "cell_type": "code",
   "execution_count": 4,
   "metadata": {},
   "outputs": [],
   "source": [
    "X.index = df['Регион']\n",
    "X = X.dropna()"
   ]
  },
  {
   "cell_type": "code",
   "execution_count": 5,
   "metadata": {},
   "outputs": [
    {
     "data": {
      "text/html": [
       "<div>\n",
       "<style scoped>\n",
       "    .dataframe tbody tr th:only-of-type {\n",
       "        vertical-align: middle;\n",
       "    }\n",
       "\n",
       "    .dataframe tbody tr th {\n",
       "        vertical-align: top;\n",
       "    }\n",
       "\n",
       "    .dataframe thead th {\n",
       "        text-align: right;\n",
       "    }\n",
       "</style>\n",
       "<table border=\"1\" class=\"dataframe\">\n",
       "  <thead>\n",
       "    <tr style=\"text-align: right;\">\n",
       "      <th></th>\n",
       "      <th>0</th>\n",
       "      <th>1</th>\n",
       "      <th>2</th>\n",
       "      <th>3</th>\n",
       "      <th>4</th>\n",
       "      <th>5</th>\n",
       "      <th>6</th>\n",
       "      <th>7</th>\n",
       "      <th>8</th>\n",
       "      <th>9</th>\n",
       "      <th>10</th>\n",
       "    </tr>\n",
       "    <tr>\n",
       "      <th>Регион</th>\n",
       "      <th></th>\n",
       "      <th></th>\n",
       "      <th></th>\n",
       "      <th></th>\n",
       "      <th></th>\n",
       "      <th></th>\n",
       "      <th></th>\n",
       "      <th></th>\n",
       "      <th></th>\n",
       "      <th></th>\n",
       "      <th></th>\n",
       "    </tr>\n",
       "  </thead>\n",
       "  <tbody>\n",
       "    <tr>\n",
       "      <th>Алтайский край</th>\n",
       "      <td>0.605457</td>\n",
       "      <td>0.695548</td>\n",
       "      <td>0.251884</td>\n",
       "      <td>0.537317</td>\n",
       "      <td>0.706806</td>\n",
       "      <td>0.000000</td>\n",
       "      <td>0.286571</td>\n",
       "      <td>0.313346</td>\n",
       "      <td>0.513261</td>\n",
       "      <td>0.246425</td>\n",
       "      <td>0.268827</td>\n",
       "    </tr>\n",
       "    <tr>\n",
       "      <th>Амурская область</th>\n",
       "      <td>0.519912</td>\n",
       "      <td>0.676947</td>\n",
       "      <td>0.490381</td>\n",
       "      <td>0.646028</td>\n",
       "      <td>0.780544</td>\n",
       "      <td>0.365321</td>\n",
       "      <td>0.384615</td>\n",
       "      <td>0.358843</td>\n",
       "      <td>0.442609</td>\n",
       "      <td>0.422992</td>\n",
       "      <td>0.269127</td>\n",
       "    </tr>\n",
       "    <tr>\n",
       "      <th>Архангельская область</th>\n",
       "      <td>0.419063</td>\n",
       "      <td>0.754590</td>\n",
       "      <td>0.485769</td>\n",
       "      <td>0.381809</td>\n",
       "      <td>0.707211</td>\n",
       "      <td>0.000000</td>\n",
       "      <td>0.381855</td>\n",
       "      <td>0.371209</td>\n",
       "      <td>0.629457</td>\n",
       "      <td>0.187569</td>\n",
       "      <td>0.409241</td>\n",
       "    </tr>\n",
       "    <tr>\n",
       "      <th>Астраханская область</th>\n",
       "      <td>0.512168</td>\n",
       "      <td>0.533301</td>\n",
       "      <td>0.249972</td>\n",
       "      <td>0.666667</td>\n",
       "      <td>0.601272</td>\n",
       "      <td>0.000000</td>\n",
       "      <td>0.533301</td>\n",
       "      <td>0.259216</td>\n",
       "      <td>0.637717</td>\n",
       "      <td>0.000000</td>\n",
       "      <td>0.500150</td>\n",
       "    </tr>\n",
       "    <tr>\n",
       "      <th>Белгородская область</th>\n",
       "      <td>0.413901</td>\n",
       "      <td>0.510140</td>\n",
       "      <td>0.298459</td>\n",
       "      <td>0.195824</td>\n",
       "      <td>0.552293</td>\n",
       "      <td>0.096912</td>\n",
       "      <td>0.220449</td>\n",
       "      <td>0.000000</td>\n",
       "      <td>0.378913</td>\n",
       "      <td>0.280528</td>\n",
       "      <td>0.000000</td>\n",
       "    </tr>\n",
       "    <tr>\n",
       "      <th>...</th>\n",
       "      <td>...</td>\n",
       "      <td>...</td>\n",
       "      <td>...</td>\n",
       "      <td>...</td>\n",
       "      <td>...</td>\n",
       "      <td>...</td>\n",
       "      <td>...</td>\n",
       "      <td>...</td>\n",
       "      <td>...</td>\n",
       "      <td>...</td>\n",
       "      <td>...</td>\n",
       "    </tr>\n",
       "    <tr>\n",
       "      <th>Чеченская Республика*</th>\n",
       "      <td>0.000000</td>\n",
       "      <td>0.135965</td>\n",
       "      <td>0.089999</td>\n",
       "      <td>0.191985</td>\n",
       "      <td>0.162360</td>\n",
       "      <td>0.190024</td>\n",
       "      <td>0.096004</td>\n",
       "      <td>0.000000</td>\n",
       "      <td>0.000000</td>\n",
       "      <td>0.220022</td>\n",
       "      <td>0.240024</td>\n",
       "    </tr>\n",
       "    <tr>\n",
       "      <th>Чувашская Республика - Чувашия</th>\n",
       "      <td>0.526733</td>\n",
       "      <td>0.588504</td>\n",
       "      <td>0.257172</td>\n",
       "      <td>0.411327</td>\n",
       "      <td>0.579894</td>\n",
       "      <td>0.000000</td>\n",
       "      <td>0.102844</td>\n",
       "      <td>0.133224</td>\n",
       "      <td>0.534130</td>\n",
       "      <td>0.157041</td>\n",
       "      <td>0.000000</td>\n",
       "    </tr>\n",
       "    <tr>\n",
       "      <th>Чукотский автономный округ</th>\n",
       "      <td>0.204830</td>\n",
       "      <td>0.333253</td>\n",
       "      <td>1.000000</td>\n",
       "      <td>0.799856</td>\n",
       "      <td>0.751725</td>\n",
       "      <td>0.527791</td>\n",
       "      <td>0.933397</td>\n",
       "      <td>0.518432</td>\n",
       "      <td>0.516957</td>\n",
       "      <td>0.611111</td>\n",
       "      <td>0.666667</td>\n",
       "    </tr>\n",
       "    <tr>\n",
       "      <th>Ямало-Ненецкий автономный округ (Тюменская область)</th>\n",
       "      <td>0.433813</td>\n",
       "      <td>0.435257</td>\n",
       "      <td>0.397008</td>\n",
       "      <td>0.423566</td>\n",
       "      <td>0.397916</td>\n",
       "      <td>0.000000</td>\n",
       "      <td>0.282371</td>\n",
       "      <td>0.000000</td>\n",
       "      <td>0.360652</td>\n",
       "      <td>0.485424</td>\n",
       "      <td>0.353135</td>\n",
       "    </tr>\n",
       "    <tr>\n",
       "      <th>Ярославская область</th>\n",
       "      <td>0.567294</td>\n",
       "      <td>0.753870</td>\n",
       "      <td>0.288446</td>\n",
       "      <td>0.430766</td>\n",
       "      <td>0.659180</td>\n",
       "      <td>0.000000</td>\n",
       "      <td>0.399976</td>\n",
       "      <td>0.179421</td>\n",
       "      <td>0.554022</td>\n",
       "      <td>0.211496</td>\n",
       "      <td>0.307831</td>\n",
       "    </tr>\n",
       "  </tbody>\n",
       "</table>\n",
       "<p>81 rows × 11 columns</p>\n",
       "</div>"
      ],
      "text/plain": [
       "                                                          0         1   \\\n",
       "Регион                                                                   \n",
       "Алтайский край                                      0.605457  0.695548   \n",
       "Амурская область                                    0.519912  0.676947   \n",
       "Архангельская область                               0.419063  0.754590   \n",
       "Астраханская область                                0.512168  0.533301   \n",
       "Белгородская область                                0.413901  0.510140   \n",
       "...                                                      ...       ...   \n",
       "Чеченская Республика*                               0.000000  0.135965   \n",
       "Чувашская Республика - Чувашия                      0.526733  0.588504   \n",
       "Чукотский автономный округ                          0.204830  0.333253   \n",
       "Ямало-Ненецкий автономный округ (Тюменская обла...  0.433813  0.435257   \n",
       "Ярославская область                                 0.567294  0.753870   \n",
       "\n",
       "                                                          2         3   \\\n",
       "Регион                                                                   \n",
       "Алтайский край                                      0.251884  0.537317   \n",
       "Амурская область                                    0.490381  0.646028   \n",
       "Архангельская область                               0.485769  0.381809   \n",
       "Астраханская область                                0.249972  0.666667   \n",
       "Белгородская область                                0.298459  0.195824   \n",
       "...                                                      ...       ...   \n",
       "Чеченская Республика*                               0.089999  0.191985   \n",
       "Чувашская Республика - Чувашия                      0.257172  0.411327   \n",
       "Чукотский автономный округ                          1.000000  0.799856   \n",
       "Ямало-Ненецкий автономный округ (Тюменская обла...  0.397008  0.423566   \n",
       "Ярославская область                                 0.288446  0.430766   \n",
       "\n",
       "                                                          4         5   \\\n",
       "Регион                                                                   \n",
       "Алтайский край                                      0.706806  0.000000   \n",
       "Амурская область                                    0.780544  0.365321   \n",
       "Архангельская область                               0.707211  0.000000   \n",
       "Астраханская область                                0.601272  0.000000   \n",
       "Белгородская область                                0.552293  0.096912   \n",
       "...                                                      ...       ...   \n",
       "Чеченская Республика*                               0.162360  0.190024   \n",
       "Чувашская Республика - Чувашия                      0.579894  0.000000   \n",
       "Чукотский автономный округ                          0.751725  0.527791   \n",
       "Ямало-Ненецкий автономный округ (Тюменская обла...  0.397916  0.000000   \n",
       "Ярославская область                                 0.659180  0.000000   \n",
       "\n",
       "                                                          6         7   \\\n",
       "Регион                                                                   \n",
       "Алтайский край                                      0.286571  0.313346   \n",
       "Амурская область                                    0.384615  0.358843   \n",
       "Архангельская область                               0.381855  0.371209   \n",
       "Астраханская область                                0.533301  0.259216   \n",
       "Белгородская область                                0.220449  0.000000   \n",
       "...                                                      ...       ...   \n",
       "Чеченская Республика*                               0.096004  0.000000   \n",
       "Чувашская Республика - Чувашия                      0.102844  0.133224   \n",
       "Чукотский автономный округ                          0.933397  0.518432   \n",
       "Ямало-Ненецкий автономный округ (Тюменская обла...  0.282371  0.000000   \n",
       "Ярославская область                                 0.399976  0.179421   \n",
       "\n",
       "                                                          8         9   \\\n",
       "Регион                                                                   \n",
       "Алтайский край                                      0.513261  0.246425   \n",
       "Амурская область                                    0.442609  0.422992   \n",
       "Архангельская область                               0.629457  0.187569   \n",
       "Астраханская область                                0.637717  0.000000   \n",
       "Белгородская область                                0.378913  0.280528   \n",
       "...                                                      ...       ...   \n",
       "Чеченская Республика*                               0.000000  0.220022   \n",
       "Чувашская Республика - Чувашия                      0.534130  0.157041   \n",
       "Чукотский автономный округ                          0.516957  0.611111   \n",
       "Ямало-Ненецкий автономный округ (Тюменская обла...  0.360652  0.485424   \n",
       "Ярославская область                                 0.554022  0.211496   \n",
       "\n",
       "                                                          10  \n",
       "Регион                                                        \n",
       "Алтайский край                                      0.268827  \n",
       "Амурская область                                    0.269127  \n",
       "Архангельская область                               0.409241  \n",
       "Астраханская область                                0.500150  \n",
       "Белгородская область                                0.000000  \n",
       "...                                                      ...  \n",
       "Чеченская Республика*                               0.240024  \n",
       "Чувашская Республика - Чувашия                      0.000000  \n",
       "Чукотский автономный округ                          0.666667  \n",
       "Ямало-Ненецкий автономный округ (Тюменская обла...  0.353135  \n",
       "Ярославская область                                 0.307831  \n",
       "\n",
       "[81 rows x 11 columns]"
      ]
     },
     "execution_count": 5,
     "metadata": {},
     "output_type": "execute_result"
    }
   ],
   "source": [
    "X"
   ]
  },
  {
   "cell_type": "code",
   "execution_count": 6,
   "metadata": {},
   "outputs": [
    {
     "name": "stderr",
     "output_type": "stream",
     "text": [
      "C:\\Users\\Meksks\\anaconda3\\lib\\site-packages\\sklearn\\cluster\\_kmeans.py:881: UserWarning: KMeans is known to have a memory leak on Windows with MKL, when there are less chunks than available threads. You can avoid it by setting the environment variable OMP_NUM_THREADS=1.\n",
      "  warnings.warn(\n",
      "C:\\Users\\Meksks\\anaconda3\\lib\\site-packages\\sklearn\\cluster\\_kmeans.py:881: UserWarning: KMeans is known to have a memory leak on Windows with MKL, when there are less chunks than available threads. You can avoid it by setting the environment variable OMP_NUM_THREADS=1.\n",
      "  warnings.warn(\n"
     ]
    },
    {
     "data": {
      "image/png": "[encoded data removed]",
      "text/plain": [
       "<Figure size 432x288 with 1 Axes>"
      ]
     },
     "metadata": {
      "needs_background": "light"
     },
     "output_type": "display_data"
    }
   ],
   "source": [
    "#Elbow method to determine amount of clusters\n",
    "\n",
    "from sklearn.cluster import KMeans\n",
    "from sklearn import metrics\n",
    "from scipy.spatial.distance import cdist\n",
    "# k means determine k\n",
    "distortions = []\n",
    "K = range(1,10)\n",
    "for k in K:\n",
    "    kmeanModel = KMeans(n_clusters=k).fit(X)\n",
    "    kmeanModel.fit(X)\n",
    "    distortions.append(sum(np.min(cdist(X, kmeanModel.cluster_centers_, 'euclidean'), axis=1)) / X.shape[0])\n",
    "\n",
    "# Plot the elbow\n",
    "plt.plot(K, distortions, 'bx-')\n",
    "plt.xlabel('Количество кластеров',fontsize=15)\n",
    "plt.ylabel('Искажение',fontsize=15)\n",
    "plt.title('Применение метода Элбоу',fontsize=15)\n",
    "plt.show()"
   ]
  },
  {
   "cell_type": "code",
   "execution_count": 7,
   "metadata": {},
   "outputs": [
    {
     "name": "stdout",
     "output_type": "stream",
     "text": [
      "silhouette score is: 0.10721911886210655\n",
      "calinski harabasz score is: 12.849747484246224\n",
      "davies bouldin score is: 1.7298994506033358\n",
      "Counter({0: 39, 2: 23, 3: 16, 1: 3})\n"
     ]
    }
   ],
   "source": [
    "##############################################\n",
    "#Kmeans for 2 clusters\n",
    "#here I took unsupervised clustering evaluation metrics:\n",
    "#https://scikit-learn.org/stable/modules/clustering.html#clustering-performance-evaluation\n",
    "# - silhouette_score is higher when clusters are dense and well separated (-1;1)\n",
    "# - Calinski-Harabasz Index is higher when clusters are dense and well separated\n",
    "# - lower Davies-Bouldin index relates to a model with better separation between the clusters\n",
    "\n",
    "kmeans = KMeans(n_clusters=4, init='k-means++').fit(X)\n",
    "labels = kmeans.labels_\n",
    "\n",
    "#Kmeans for 4 clusters evaluation\n",
    "\n",
    "from sklearn.metrics import pairwise_distances\n",
    "from sklearn.metrics import davies_bouldin_score\n",
    "\n",
    "print('silhouette score is:',metrics.silhouette_score(X, labels, metric='euclidean'))\n",
    "print('calinski harabasz score is:',metrics.calinski_harabasz_score(X, labels))\n",
    "print('davies bouldin score is:',davies_bouldin_score(X, labels))\n",
    "\n",
    "from collections import Counter\n",
    "print (Counter(kmeans.labels_))\n"
   ]
  },
  {
   "cell_type": "code",
   "execution_count": 8,
   "metadata": {},
   "outputs": [
    {
     "name": "stdout",
     "output_type": "stream",
     "text": [
      "silhouette score is: 0.08240071048969823\n",
      "calinski harabasz score is: 10.74378204131663\n",
      "davies bouldin score is: 1.858285790965664\n",
      "Counter({0: 27, 3: 19, 1: 19, 2: 16})\n"
     ]
    }
   ],
   "source": [
    "###################################################\n",
    "#SpectralClustering\n",
    "from sklearn.cluster import SpectralClustering\n",
    "clustering_spec = SpectralClustering(n_clusters=4,affinity='nearest_neighbors').fit(X)\n",
    "\n",
    "print('silhouette score is:',metrics.silhouette_score(X, clustering_spec.labels_, metric='euclidean'))\n",
    "print('calinski harabasz score is:',metrics.calinski_harabasz_score(X, clustering_spec.labels_))\n",
    "print('davies bouldin score is:',davies_bouldin_score(X, clustering_spec.labels_))\n",
    "\n",
    "print((Counter(clustering_spec.labels_)))"
   ]
  },
  {
   "cell_type": "code",
   "execution_count": 9,
   "metadata": {},
   "outputs": [
    {
     "name": "stdout",
     "output_type": "stream",
     "text": [
      "Counter({0: 61, -1: 20})\n",
      "silhouette score is: 0.2476598433276249\n",
      "calinski harabasz score is: 4.918449850902024\n",
      "davies bouldin score is: 3.7745444089392914\n"
     ]
    },
    {
     "data": {
      "image/png": "[encoded data removed]",
      "text/plain": [
       "<Figure size 432x288 with 1 Axes>"
      ]
     },
     "metadata": {
      "needs_background": "light"
     },
     "output_type": "display_data"
    }
   ],
   "source": [
    "###################################################\n",
    "#DBSCAN made only 2 clusters\n",
    "\n",
    "from sklearn.neighbors import NearestNeighbors\n",
    "from sklearn.cluster import DBSCAN\n",
    "#finding optimal epsilon like here: https://medium.com/@tarammullin/dbscan-parameter-estimation-ff8330e3a3bd\n",
    "neighbors = NearestNeighbors(n_neighbors=24)\n",
    "neighbors_fit = neighbors.fit(X)\n",
    "distances, indices = neighbors_fit.kneighbors(X)\n",
    "distances = np.sort(distances, axis=0)\n",
    "distances = distances[:,1]\n",
    "plt.plot(distances)\n",
    "\n",
    "#hence optimal epsilon for DBSCAN is roughly 0.44\n",
    "\n",
    "clustering_dbscan = DBSCAN(eps=0.44, min_samples=15).fit(X)\n",
    "print(Counter(clustering_dbscan.labels_))\n",
    "\n",
    "print('silhouette score is:',metrics.silhouette_score(X, clustering_dbscan.labels_, metric='euclidean'))\n",
    "print('calinski harabasz score is:',metrics.calinski_harabasz_score(X, clustering_dbscan.labels_))\n",
    "print('davies bouldin score is:',davies_bouldin_score(X, clustering_dbscan.labels_))"
   ]
  },
  {
   "cell_type": "code",
   "execution_count": 10,
   "metadata": {},
   "outputs": [
    {
     "name": "stdout",
     "output_type": "stream",
     "text": [
      "Counter({2: 32, 0: 29, 3: 17, 1: 3})\n",
      "silhouette score is: 0.10639414818784465\n",
      "calinski harabasz score is: 12.315323008357176\n",
      "davies bouldin score is: 1.7280749599564267\n"
     ]
    }
   ],
   "source": [
    "############################################################\n",
    "#AgglomerativeClustering\n",
    "from sklearn.cluster import AgglomerativeClustering\n",
    "clustering_ac = AgglomerativeClustering(n_clusters = 4).fit(X)\n",
    "print(Counter(clustering_ac.labels_))\n",
    "\n",
    "print('silhouette score is:',metrics.silhouette_score(X, clustering_ac.labels_, metric='euclidean'))\n",
    "print('calinski harabasz score is:',metrics.calinski_harabasz_score(X, clustering_ac.labels_))\n",
    "print('davies bouldin score is:',davies_bouldin_score(X, clustering_ac.labels_))"
   ]
  },
  {
   "cell_type": "code",
   "execution_count": 11,
   "metadata": {},
   "outputs": [],
   "source": [
    "labels = clustering_dbscan.labels_"
   ]
  },
  {
   "cell_type": "code",
   "execution_count": 12,
   "metadata": {},
   "outputs": [
    {
     "name": "stdout",
     "output_type": "stream",
     "text": [
      "silhouette score is: 0.27942202645366854\n",
      "calinski harabasz score is: 13.505841273375577\n",
      "davies bouldin score is: 2.059712115968354\n"
     ]
    },
    {
     "data": {
      "image/png": "[encoded data removed]",
      "text/plain": [
       "<Figure size 720x432 with 1 Axes>"
      ]
     },
     "metadata": {
      "needs_background": "light"
     },
     "output_type": "display_data"
    }
   ],
   "source": [
    "#Random projection\n",
    "from sklearn.random_projection import SparseRandomProjection\n",
    "transformer = SparseRandomProjection(n_components=2)\n",
    "import pylab\n",
    "X_new = transformer.fit_transform(X)\n",
    "pylab.figure(figsize=(10,6))\n",
    "pylab.scatter(X_new[:,0],X_new[:,1],c=labels)\n",
    "\n",
    "print('silhouette score is:',metrics.silhouette_score(X_new, labels, metric='euclidean'))\n",
    "print('calinski harabasz score is:',metrics.calinski_harabasz_score(X_new, labels))\n",
    "print('davies bouldin score is:',davies_bouldin_score(X_new, labels))"
   ]
  },
  {
   "cell_type": "code",
   "execution_count": 13,
   "metadata": {},
   "outputs": [
    {
     "name": "stdout",
     "output_type": "stream",
     "text": [
      "[0.28076921 0.17402862]\n",
      "silhouette score is: 0.3030652712728209\n",
      "calinski harabasz score is: 10.017353542768921\n",
      "davies bouldin score is: 2.461931244304305\n"
     ]
    },
    {
     "data": {
      "image/png": "[encoded data removed]",
      "text/plain": [
       "<Figure size 720x432 with 1 Axes>"
      ]
     },
     "metadata": {
      "needs_background": "light"
     },
     "output_type": "display_data"
    }
   ],
   "source": [
    "#PCA (2 dims explain 45% of variance)\n",
    "from sklearn.decomposition import PCA\n",
    "pca = PCA(n_components=2)\n",
    "X_pca = pca.fit_transform(X)\n",
    "pylab.figure(figsize=(10,6))\n",
    "pylab.scatter(X_pca[:,0],X_pca[:,1],c=labels)\n",
    "print(pca.fit(X).explained_variance_ratio_)\n",
    "\n",
    "print('silhouette score is:',metrics.silhouette_score(X_pca, labels, metric='euclidean'))\n",
    "print('calinski harabasz score is:',metrics.calinski_harabasz_score(X_pca, labels))\n",
    "print('davies bouldin score is:',davies_bouldin_score(X_pca, labels))"
   ]
  },
  {
   "cell_type": "code",
   "execution_count": 14,
   "metadata": {},
   "outputs": [
    {
     "name": "stdout",
     "output_type": "stream",
     "text": [
      "silhouette score is: 0.2956338227059679\n",
      "calinski harabasz score is: 0.6489298614579692\n",
      "davies bouldin score is: 10.296547641630069\n"
     ]
    },
    {
     "data": {
      "image/png": "[encoded data removed]",
      "text/plain": [
       "<Figure size 720x432 with 1 Axes>"
      ]
     },
     "metadata": {
      "needs_background": "light"
     },
     "output_type": "display_data"
    }
   ],
   "source": [
    "#MDS\n",
    "from sklearn.manifold import MDS\n",
    "mds = MDS(n_components=2)\n",
    "X_mds = mds.fit_transform(X)\n",
    "mds_f = mds.fit(X)\n",
    "pylab.figure(figsize=(10,6))\n",
    "pylab.scatter(X_mds[:,0],X_mds[:,1],c=labels)\n",
    "#print(mds_f.stress_)\n",
    "#print(mds_f.dissimilarity_matrix_)\n",
    "\n",
    "print('silhouette score is:',metrics.silhouette_score(X_mds, labels, metric='euclidean'))\n",
    "print('calinski harabasz score is:',metrics.calinski_harabasz_score(X_mds, labels))\n",
    "print('davies bouldin score is:',davies_bouldin_score(X_mds, labels))"
   ]
  },
  {
   "cell_type": "code",
   "execution_count": 15,
   "metadata": {},
   "outputs": [
    {
     "name": "stdout",
     "output_type": "stream",
     "text": [
      "silhouette score is: 0.18123496\n",
      "calinski harabasz score is: 1.6231197297746494\n",
      "davies bouldin score is: 6.337420931483398\n"
     ]
    },
    {
     "data": {
      "image/png": "[encoded data removed]",
      "text/plain": [
       "<Figure size 720x432 with 1 Axes>"
      ]
     },
     "metadata": {
      "needs_background": "light"
     },
     "output_type": "display_data"
    }
   ],
   "source": [
    "#tSNE (init - pca)\n",
    "from sklearn.manifold import TSNE\n",
    "X_tsne= TSNE(n_components=2,init = 'pca').fit_transform(X)\n",
    "\n",
    "pylab.figure(figsize=(10,6))\n",
    "pylab.scatter(X_tsne[:,0],X_tsne[:,1],c=labels)\n",
    "\n",
    "print('silhouette score is:',metrics.silhouette_score(X_tsne, labels, metric='euclidean'))\n",
    "print('calinski harabasz score is:',metrics.calinski_harabasz_score(X_tsne, labels))\n",
    "print('davies bouldin score is:',davies_bouldin_score(X_tsne, labels))"
   ]
  },
  {
   "cell_type": "code",
   "execution_count": 16,
   "metadata": {},
   "outputs": [
    {
     "name": "stdout",
     "output_type": "stream",
     "text": [
      "silhouette score is: 0.17878011\n",
      "calinski harabasz score is: 0.8831852894403539\n",
      "davies bouldin score is: 8.757743633685273\n"
     ]
    },
    {
     "data": {
      "image/png": "[encoded data removed]",
      "text/plain": [
       "<Figure size 720x432 with 1 Axes>"
      ]
     },
     "metadata": {
      "needs_background": "light"
     },
     "output_type": "display_data"
    }
   ],
   "source": [
    "#tSNE (init - random(default))\n",
    "from sklearn.manifold import TSNE\n",
    "X_tsne= TSNE(n_components=2).fit_transform(X) \n",
    "pylab.figure(figsize=(10,6))\n",
    "pylab.scatter(X_tsne[:,0],X_tsne[:,1],c=labels)\n",
    "\n",
    "print('silhouette score is:',metrics.silhouette_score(X_tsne, labels, metric='euclidean'))\n",
    "print('calinski harabasz score is:',metrics.calinski_harabasz_score(X_tsne, labels))\n",
    "print('davies bouldin score is:',davies_bouldin_score(X_tsne, labels))"
   ]
  },
  {
   "cell_type": "code",
   "execution_count": 17,
   "metadata": {},
   "outputs": [],
   "source": [
    "X_mds = pd.DataFrame(X_mds)\n",
    "X_mds.index = X.index\n",
    "labels = pd.DataFrame(labels)\n",
    "labels.index = X.index"
   ]
  },
  {
   "cell_type": "code",
   "execution_count": 18,
   "metadata": {
    "scrolled": false
   },
   "outputs": [
    {
     "data": {
      "text/html": [
       "<div>\n",
       "<style scoped>\n",
       "    .dataframe tbody tr th:only-of-type {\n",
       "        vertical-align: middle;\n",
       "    }\n",
       "\n",
       "    .dataframe tbody tr th {\n",
       "        vertical-align: top;\n",
       "    }\n",
       "\n",
       "    .dataframe thead th {\n",
       "        text-align: right;\n",
       "    }\n",
       "</style>\n",
       "<table border=\"1\" class=\"dataframe\">\n",
       "  <thead>\n",
       "    <tr style=\"text-align: right;\">\n",
       "      <th></th>\n",
       "      <th>1 компонента</th>\n",
       "      <th>2 компонента</th>\n",
       "      <th>Кластер</th>\n",
       "    </tr>\n",
       "    <tr>\n",
       "      <th>Регион</th>\n",
       "      <th></th>\n",
       "      <th></th>\n",
       "      <th></th>\n",
       "    </tr>\n",
       "  </thead>\n",
       "  <tbody>\n",
       "    <tr>\n",
       "      <th>Алтайский край</th>\n",
       "      <td>-0.182883</td>\n",
       "      <td>-0.047105</td>\n",
       "      <td>0</td>\n",
       "    </tr>\n",
       "    <tr>\n",
       "      <th>Амурская область</th>\n",
       "      <td>-0.481323</td>\n",
       "      <td>-0.267740</td>\n",
       "      <td>-1</td>\n",
       "    </tr>\n",
       "    <tr>\n",
       "      <th>Архангельская область</th>\n",
       "      <td>-0.186748</td>\n",
       "      <td>0.326896</td>\n",
       "      <td>0</td>\n",
       "    </tr>\n",
       "    <tr>\n",
       "      <th>Астраханская область</th>\n",
       "      <td>-0.485234</td>\n",
       "      <td>0.186808</td>\n",
       "      <td>0</td>\n",
       "    </tr>\n",
       "    <tr>\n",
       "      <th>Белгородская область</th>\n",
       "      <td>0.441048</td>\n",
       "      <td>-0.178845</td>\n",
       "      <td>0</td>\n",
       "    </tr>\n",
       "  </tbody>\n",
       "</table>\n",
       "</div>"
      ],
      "text/plain": [
       "                       1 компонента  2 компонента  Кластер\n",
       "Регион                                                    \n",
       "Алтайский край            -0.182883     -0.047105        0\n",
       "Амурская область          -0.481323     -0.267740       -1\n",
       "Архангельская область     -0.186748      0.326896        0\n",
       "Астраханская область      -0.485234      0.186808        0\n",
       "Белгородская область       0.441048     -0.178845        0"
      ]
     },
     "execution_count": 18,
     "metadata": {},
     "output_type": "execute_result"
    }
   ],
   "source": [
    "new_df = pd.concat([X_mds, labels], axis = 1)\n",
    "new_df.columns = ['1 компонента', '2 компонента', 'Кластер']\n",
    "\n",
    "new_df[:5]"
   ]
  },
  {
   "cell_type": "code",
   "execution_count": 20,
   "metadata": {},
   "outputs": [],
   "source": [
    "new_df.to_excel(\"кластеры 2021.xlsx\")  "
   ]
  },
  {
   "cell_type": "code",
   "execution_count": null,
   "metadata": {},
   "outputs": [],
   "source": []
  }
 ],
 "metadata": {
  "kernelspec": {
   "display_name": "Python 3",
   "language": "python",
   "name": "python3"
  },
  "language_info": {
   "codemirror_mode": {
    "name": "ipython",
    "version": 3
   },
   "file_extension": ".py",
   "mimetype": "text/x-python",
   "name": "python",
   "nbconvert_exporter": "python",
   "pygments_lexer": "ipython3",
   "version": "3.8.3"
  }
 },
 "nbformat": 4,
 "nbformat_minor": 4
}
